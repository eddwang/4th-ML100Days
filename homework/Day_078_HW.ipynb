{
 "cells": [
  {
   "cell_type": "markdown",
   "metadata": {},
   "source": [
    "## Work\n",
    "1. 請嘗試將 preproc_x 替換成以每筆資料的 min/max 進行標準化至 -1 ~ 1 間，再進行訓練\n",
    "2. 請嘗試將 mlp 疊更深 (e.g 5~10 層)，進行訓練後觀察 learning curve 的走勢\n",
    "3. (optional) 請改用 GPU 進行訓練 (如果你有 GPU 的話)，比較使用 CPU 與 GPU 的訓練速度"
   ]
  },
  {
   "cell_type": "code",
   "execution_count": 1,
   "metadata": {},
   "outputs": [
    {
     "data": {
      "text/plain": [
       "'\\nYour code here (optional)\\n確認硬體資源\\n'"
      ]
     },
     "execution_count": 1,
     "metadata": {},
     "output_type": "execute_result"
    }
   ],
   "source": [
    "## \n",
    "\"\"\"\n",
    "Your code here (optional)\n",
    "確認硬體資源\n",
    "\"\"\"\n"
   ]
  },
  {
   "cell_type": "code",
   "execution_count": 2,
   "metadata": {},
   "outputs": [
    {
     "name": "stderr",
     "output_type": "stream",
     "text": [
      "Using TensorFlow backend.\n"
     ]
    }
   ],
   "source": [
    "import os\n",
    "os.environ[\"CUDA_VISIBLE_DEVICES\"] = \"\"\n",
    "import keras\n",
    "\n",
    "# 請嘗試設定 GPU：os.environ\n",
    "# 不設定 \n"
   ]
  },
  {
   "cell_type": "code",
   "execution_count": 3,
   "metadata": {},
   "outputs": [],
   "source": [
    "train, test = keras.datasets.cifar10.load_data()"
   ]
  },
  {
   "cell_type": "code",
   "execution_count": 4,
   "metadata": {},
   "outputs": [],
   "source": [
    "## 資料前處理\n",
    "\"\"\"\n",
    "Your code here\n",
    "\"\"\"\n",
    "## 資料前處理\n",
    "def preproc_x(x, flatten=True):\n",
    "    x = (x-x.min())/(x.max()-x.min()) * 2 -1\n",
    "    if flatten:\n",
    "        x = x.reshape((len(x), -1))\n",
    "    return x\n",
    "\n",
    "def preproc_y(y, num_classes=10):\n",
    "    if y.shape[-1] == 1:\n",
    "        y = keras.utils.to_categorical(y, num_classes)\n",
    "    return y    "
   ]
  },
  {
   "cell_type": "code",
   "execution_count": 5,
   "metadata": {},
   "outputs": [],
   "source": [
    "x_train, y_train = train\n",
    "x_test, y_test = test\n",
    "\n",
    "# Preproc the inputs\n",
    "x_train = preproc_x(x_train)\n",
    "x_test = preproc_x(x_test)\n",
    "\n",
    "# Preprc the outputs\n",
    "y_train = preproc_y(y_train)\n",
    "y_test = preproc_y(y_test)"
   ]
  },
  {
   "cell_type": "code",
   "execution_count": 6,
   "metadata": {},
   "outputs": [
    {
     "name": "stdout",
     "output_type": "stream",
     "text": [
      "Model: \"model_1\"\n",
      "_________________________________________________________________\n",
      "Layer (type)                 Output Shape              Param #   \n",
      "=================================================================\n",
      "input_1 (InputLayer)         (None, 3072)              0         \n",
      "_________________________________________________________________\n",
      "hidden_layer1 (Dense)        (None, 512)               1573376   \n",
      "_________________________________________________________________\n",
      "hidden_layer2 (Dense)        (None, 256)               131328    \n",
      "_________________________________________________________________\n",
      "hidden_layer3 (Dense)        (None, 256)               65792     \n",
      "_________________________________________________________________\n",
      "hidden_layer4 (Dense)        (None, 256)               65792     \n",
      "_________________________________________________________________\n",
      "hidden_layer5 (Dense)        (None, 256)               65792     \n",
      "_________________________________________________________________\n",
      "hidden_layer6 (Dense)        (None, 256)               65792     \n",
      "_________________________________________________________________\n",
      "hidden_layer7 (Dense)        (None, 128)               32896     \n",
      "_________________________________________________________________\n",
      "output (Dense)               (None, 10)                1290      \n",
      "=================================================================\n",
      "Total params: 2,002,058\n",
      "Trainable params: 2,002,058\n",
      "Non-trainable params: 0\n",
      "_________________________________________________________________\n"
     ]
    }
   ],
   "source": [
    "\"\"\"Code Here\n",
    "建立你的神經網路\n",
    "\"\"\"\n",
    "def build_mlp(input_shape, output_units=10, num_neurons=[512,256,256,256,256,256,128]):\n",
    "    input_layer = keras.layers.Input(input_shape)\n",
    "    \n",
    "    for i, n_units in enumerate(num_neurons):\n",
    "        if i == 0:\n",
    "            x = keras.layers.Dense(units=n_units, activation=\"relu\", name=\"hidden_layer\"+str(i+1))(input_layer)\n",
    "        else:\n",
    "            x = keras.layers.Dense(units=n_units, activation=\"relu\", name=\"hidden_layer\"+str(i+1))(x)\n",
    "    \n",
    "    out = keras.layers.Dense(units=output_units, activation=\"softmax\", name=\"output\")(x)\n",
    "    \n",
    "    model = keras.models.Model(inputs=[input_layer], outputs=[out])\n",
    "    return model\n",
    "model = build_mlp(input_shape=x_train.shape[1:])\n",
    "model.summary()"
   ]
  },
  {
   "cell_type": "code",
   "execution_count": 7,
   "metadata": {},
   "outputs": [],
   "source": [
    "## 超參數設定\n",
    "LEARNING_RATE = 0.001\n",
    "EPOCHS = 100\n",
    "BATCH_SIZE = 256"
   ]
  },
  {
   "cell_type": "code",
   "execution_count": 8,
   "metadata": {},
   "outputs": [],
   "source": [
    "optimizer = keras.optimizers.Adam(lr=LEARNING_RATE)\n",
    "model.compile(loss=\"categorical_crossentropy\", metrics=[\"accuracy\"], optimizer=optimizer)"
   ]
  },
  {
   "cell_type": "code",
   "execution_count": null,
   "metadata": {
    "scrolled": false
   },
   "outputs": [
    {
     "name": "stdout",
     "output_type": "stream",
     "text": [
      "Train on 50000 samples, validate on 10000 samples\n",
      "Epoch 1/100\n",
      "50000/50000 [==============================] - 4s 77us/step - loss: 1.7033 - accuracy: 0.3910 - val_loss: 1.5546 - val_accuracy: 0.4529\n",
      "Epoch 2/100\n",
      "50000/50000 [==============================] - 3s 65us/step - loss: 1.4713 - accuracy: 0.4798 - val_loss: 1.4573 - val_accuracy: 0.4862\n",
      "Epoch 3/100\n",
      "50000/50000 [==============================] - 3s 63us/step - loss: 1.3481 - accuracy: 0.5239 - val_loss: 1.4002 - val_accuracy: 0.5070\n",
      "Epoch 4/100\n",
      "50000/50000 [==============================] - 3s 64us/step - loss: 1.2638 - accuracy: 0.5519 - val_loss: 1.3865 - val_accuracy: 0.5115\n",
      "Epoch 5/100\n",
      "50000/50000 [==============================] - 3s 68us/step - loss: 1.1717 - accuracy: 0.5846 - val_loss: 1.3413 - val_accuracy: 0.5340\n",
      "Epoch 6/100\n",
      "50000/50000 [==============================] - 3s 65us/step - loss: 1.0930 - accuracy: 0.6117 - val_loss: 1.3623 - val_accuracy: 0.5251\n",
      "Epoch 7/100\n",
      "50000/50000 [==============================] - 3s 64us/step - loss: 1.0169 - accuracy: 0.6385 - val_loss: 1.3769 - val_accuracy: 0.5326\n",
      "Epoch 8/100\n",
      "50000/50000 [==============================] - 3s 63us/step - loss: 0.9434 - accuracy: 0.6629 - val_loss: 1.4026 - val_accuracy: 0.5316\n",
      "Epoch 9/100\n",
      "50000/50000 [==============================] - 3s 63us/step - loss: 0.8801 - accuracy: 0.6878 - val_loss: 1.4357 - val_accuracy: 0.5344\n",
      "Epoch 10/100\n",
      "50000/50000 [==============================] - 3s 63us/step - loss: 0.8127 - accuracy: 0.7097 - val_loss: 1.4635 - val_accuracy: 0.5360\n",
      "Epoch 11/100\n",
      "50000/50000 [==============================] - 3s 62us/step - loss: 0.7470 - accuracy: 0.7319 - val_loss: 1.5051 - val_accuracy: 0.5345\n",
      "Epoch 12/100\n",
      "50000/50000 [==============================] - 3s 62us/step - loss: 0.6834 - accuracy: 0.7568 - val_loss: 1.5569 - val_accuracy: 0.5378\n",
      "Epoch 13/100\n",
      "50000/50000 [==============================] - 3s 63us/step - loss: 0.6325 - accuracy: 0.7736 - val_loss: 1.6531 - val_accuracy: 0.5262\n",
      "Epoch 14/100\n",
      "50000/50000 [==============================] - 3s 63us/step - loss: 0.5800 - accuracy: 0.7930 - val_loss: 1.6227 - val_accuracy: 0.5400\n",
      "Epoch 15/100\n",
      "50000/50000 [==============================] - 3s 62us/step - loss: 0.5451 - accuracy: 0.8057 - val_loss: 1.8028 - val_accuracy: 0.5349\n",
      "Epoch 16/100\n",
      "50000/50000 [==============================] - 3s 63us/step - loss: 0.4983 - accuracy: 0.8225 - val_loss: 1.8948 - val_accuracy: 0.5332\n",
      "Epoch 17/100\n",
      "50000/50000 [==============================] - 3s 62us/step - loss: 0.4548 - accuracy: 0.8372 - val_loss: 1.9279 - val_accuracy: 0.5287\n",
      "Epoch 18/100\n",
      "50000/50000 [==============================] - 3s 64us/step - loss: 0.4203 - accuracy: 0.8506 - val_loss: 2.0622 - val_accuracy: 0.5232\n",
      "Epoch 19/100\n",
      "50000/50000 [==============================] - 3s 66us/step - loss: 0.3902 - accuracy: 0.8620 - val_loss: 2.0784 - val_accuracy: 0.5244\n",
      "Epoch 20/100\n",
      "50000/50000 [==============================] - 3s 65us/step - loss: 0.3565 - accuracy: 0.8753 - val_loss: 2.1230 - val_accuracy: 0.5313\n",
      "Epoch 21/100\n",
      "50000/50000 [==============================] - 3s 66us/step - loss: 0.3411 - accuracy: 0.8805 - val_loss: 2.1939 - val_accuracy: 0.5207\n",
      "Epoch 22/100\n",
      "50000/50000 [==============================] - 3s 69us/step - loss: 0.3091 - accuracy: 0.8922 - val_loss: 2.3483 - val_accuracy: 0.5235\n",
      "Epoch 23/100\n",
      "50000/50000 [==============================] - 3s 63us/step - loss: 0.2871 - accuracy: 0.8984 - val_loss: 2.4520 - val_accuracy: 0.5296\n",
      "Epoch 24/100\n",
      "50000/50000 [==============================] - 3s 62us/step - loss: 0.2762 - accuracy: 0.9038 - val_loss: 2.5104 - val_accuracy: 0.5217\n",
      "Epoch 25/100\n",
      "50000/50000 [==============================] - 3s 62us/step - loss: 0.2548 - accuracy: 0.9114 - val_loss: 2.6382 - val_accuracy: 0.5250\n",
      "Epoch 26/100\n",
      "50000/50000 [==============================] - 3s 63us/step - loss: 0.2533 - accuracy: 0.9101 - val_loss: 2.5527 - val_accuracy: 0.5311\n",
      "Epoch 27/100\n",
      "50000/50000 [==============================] - 3s 63us/step - loss: 0.2352 - accuracy: 0.9196 - val_loss: 2.5988 - val_accuracy: 0.5151\n",
      "Epoch 28/100\n",
      "50000/50000 [==============================] - 3s 64us/step - loss: 0.2224 - accuracy: 0.9224 - val_loss: 2.8363 - val_accuracy: 0.5306\n",
      "Epoch 29/100\n",
      "50000/50000 [==============================] - 3s 63us/step - loss: 0.2091 - accuracy: 0.9279 - val_loss: 2.7505 - val_accuracy: 0.5268\n",
      "Epoch 30/100\n",
      "50000/50000 [==============================] - 3s 63us/step - loss: 0.2014 - accuracy: 0.9310 - val_loss: 2.9674 - val_accuracy: 0.5195\n",
      "Epoch 31/100\n",
      "31488/50000 [=================>............] - ETA: 1s - loss: 0.1823 - accuracy: 0.9367"
     ]
    }
   ],
   "source": [
    "%%time\n",
    "model.fit(x_train, y_train, \n",
    "          epochs=EPOCHS, \n",
    "          batch_size=BATCH_SIZE, \n",
    "          validation_data=(x_test, y_test), \n",
    "          shuffle=True)"
   ]
  },
  {
   "cell_type": "code",
   "execution_count": null,
   "metadata": {},
   "outputs": [],
   "source": [
    "import matplotlib.pyplot as plt\n",
    "%matplotlib inline\n",
    "\n",
    "train_loss = model.history.history[\"loss\"]\n",
    "valid_loss = model.history.history[\"val_loss\"]\n",
    "\n",
    "train_acc = model.history.history[\"accuracy\"]\n",
    "valid_acc = model.history.history[\"val_accuracy\"]\n",
    "\n",
    "plt.plot(range(len(train_loss)), train_loss, label=\"train loss\")\n",
    "plt.plot(range(len(valid_loss)), valid_loss, label=\"valid loss\")\n",
    "plt.legend()\n",
    "plt.title(\"Loss\")\n",
    "plt.show()\n",
    "\n",
    "plt.plot(range(len(train_acc)), train_acc, label=\"train accuracy\")\n",
    "plt.plot(range(len(valid_acc)), valid_acc, label=\"valid accuracy\")\n",
    "plt.legend()\n",
    "plt.title(\"Accuracy\")\n",
    "plt.show()"
   ]
  },
  {
   "cell_type": "markdown",
   "metadata": {},
   "source": []
  }
 ],
 "metadata": {
  "kernelspec": {
   "display_name": "Python 3",
   "language": "python",
   "name": "python3"
  },
  "language_info": {
   "codemirror_mode": {
    "name": "ipython",
    "version": 3
   },
   "file_extension": ".py",
   "mimetype": "text/x-python",
   "name": "python",
   "nbconvert_exporter": "python",
   "pygments_lexer": "ipython3",
   "version": "3.6.9"
  }
 },
 "nbformat": 4,
 "nbformat_minor": 2
}
