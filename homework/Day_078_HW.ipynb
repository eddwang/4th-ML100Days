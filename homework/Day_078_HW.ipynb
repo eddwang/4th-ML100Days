{
 "cells": [
  {
   "cell_type": "markdown",
   "metadata": {},
   "source": [
    "## Work\n",
    "1. 請嘗試將 preproc_x 替換成以每筆資料的 min/max 進行標準化至 -1 ~ 1 間，再進行訓練\n",
    "2. 請嘗試將 mlp 疊更深 (e.g 5~10 層)，進行訓練後觀察 learning curve 的走勢\n",
    "3. (optional) 請改用 GPU 進行訓練 (如果你有 GPU 的話)，比較使用 CPU 與 GPU 的訓練速度"
   ]
  },
  {
   "cell_type": "code",
   "execution_count": 1,
   "metadata": {},
   "outputs": [],
   "source": [
    "## \n",
    "\"\"\"\n",
    "Your code here (optional)\n",
    "確認硬體資源\n",
    "\"\"\"\n"
   ]
  },
  {
   "cell_type": "code",
   "execution_count": 2,
   "metadata": {},
   "outputs": [
    {
     "name": "stderr",
     "output_type": "stream",
     "text": [
      "Using TensorFlow backend.\n"
     ]
    }
   ],
   "source": [
    "import os\n",
    "import keras\n",
    "\n",
    "# 請嘗試設定 GPU：os.environ\n",
    "# 不設定 \n",
    "#os.environ[\"CUDA_VISIBLE_DEVICES\"] = \"\""
   ]
  },
  {
   "cell_type": "code",
   "execution_count": 3,
   "metadata": {},
   "outputs": [],
   "source": [
    "train, test = keras.datasets.cifar10.load_data()"
   ]
  },
  {
   "cell_type": "code",
   "execution_count": 4,
   "metadata": {},
   "outputs": [],
   "source": [
    "## 資料前處理\n",
    "\"\"\"\n",
    "Your code here\n",
    "\"\"\"\n",
    "## 資料前處理\n",
    "def preproc_x(x, flatten=True):\n",
    "    x = (x-x.min())/(x.max()-x.min()) * 2 -1\n",
    "    if flatten:\n",
    "        x = x.reshape((len(x), -1))\n",
    "    return x\n",
    "\n",
    "def preproc_y(y, num_classes=10):\n",
    "    if y.shape[-1] == 1:\n",
    "        y = keras.utils.to_categorical(y, num_classes)\n",
    "    return y    "
   ]
  },
  {
   "cell_type": "code",
   "execution_count": 5,
   "metadata": {},
   "outputs": [],
   "source": [
    "x_train, y_train = train\n",
    "x_test, y_test = test\n",
    "\n",
    "# Preproc the inputs\n",
    "x_train = preproc_x(x_train)\n",
    "x_test = preproc_x(x_test)\n",
    "\n",
    "# Preprc the outputs\n",
    "y_train = preproc_y(y_train)\n",
    "y_test = preproc_y(y_test)"
   ]
  },
  {
   "cell_type": "code",
   "execution_count": 6,
   "metadata": {},
   "outputs": [
    {
     "name": "stdout",
     "output_type": "stream",
     "text": [
      "Model: \"model_1\"\n",
      "_________________________________________________________________\n",
      "Layer (type)                 Output Shape              Param #   \n",
      "=================================================================\n",
      "input_1 (InputLayer)         (None, 3072)              0         \n",
      "_________________________________________________________________\n",
      "hidden_layer1 (Dense)        (None, 512)               1573376   \n",
      "_________________________________________________________________\n",
      "hidden_layer2 (Dense)        (None, 256)               131328    \n",
      "_________________________________________________________________\n",
      "hidden_layer3 (Dense)        (None, 256)               65792     \n",
      "_________________________________________________________________\n",
      "hidden_layer4 (Dense)        (None, 256)               65792     \n",
      "_________________________________________________________________\n",
      "hidden_layer5 (Dense)        (None, 256)               65792     \n",
      "_________________________________________________________________\n",
      "hidden_layer6 (Dense)        (None, 256)               65792     \n",
      "_________________________________________________________________\n",
      "hidden_layer7 (Dense)        (None, 128)               32896     \n",
      "_________________________________________________________________\n",
      "output (Dense)               (None, 10)                1290      \n",
      "=================================================================\n",
      "Total params: 2,002,058\n",
      "Trainable params: 2,002,058\n",
      "Non-trainable params: 0\n",
      "_________________________________________________________________\n"
     ]
    }
   ],
   "source": [
    "\"\"\"Code Here\n",
    "建立你的神經網路\n",
    "\"\"\"\n",
    "def build_mlp(input_shape, output_units=10, num_neurons=[512,256,256,256,256,256,128]):\n",
    "    input_layer = keras.layers.Input(input_shape)\n",
    "    \n",
    "    for i, n_units in enumerate(num_neurons):\n",
    "        if i == 0:\n",
    "            x = keras.layers.Dense(units=n_units, activation=\"relu\", name=\"hidden_layer\"+str(i+1))(input_layer)\n",
    "        else:\n",
    "            x = keras.layers.Dense(units=n_units, activation=\"relu\", name=\"hidden_layer\"+str(i+1))(x)\n",
    "    \n",
    "    out = keras.layers.Dense(units=output_units, activation=\"softmax\", name=\"output\")(x)\n",
    "    \n",
    "    model = keras.models.Model(inputs=[input_layer], outputs=[out])\n",
    "    return model\n",
    "model = build_mlp(input_shape=x_train.shape[1:])\n",
    "model.summary()"
   ]
  },
  {
   "cell_type": "code",
   "execution_count": 7,
   "metadata": {},
   "outputs": [],
   "source": [
    "## 超參數設定\n",
    "LEARNING_RATE = 0.001\n",
    "EPOCHS = 100\n",
    "BATCH_SIZE = 256"
   ]
  },
  {
   "cell_type": "code",
   "execution_count": 8,
   "metadata": {},
   "outputs": [],
   "source": [
    "optimizer = keras.optimizers.Adam(lr=LEARNING_RATE)\n",
    "model.compile(loss=\"categorical_crossentropy\", metrics=[\"accuracy\"], optimizer=optimizer)"
   ]
  },
  {
   "cell_type": "code",
   "execution_count": 9,
   "metadata": {
    "scrolled": false
   },
   "outputs": [
    {
     "name": "stdout",
     "output_type": "stream",
     "text": [
      "Train on 50000 samples, validate on 10000 samples\n",
      "Epoch 1/100\n",
      "50000/50000 [==============================] - 4s 81us/step - loss: 1.7145 - accuracy: 0.3870 - val_loss: 1.5452 - val_accuracy: 0.4606\n",
      "Epoch 2/100\n",
      "50000/50000 [==============================] - 3s 69us/step - loss: 1.4725 - accuracy: 0.4788 - val_loss: 1.4205 - val_accuracy: 0.4961\n",
      "Epoch 3/100\n",
      "50000/50000 [==============================] - 3s 69us/step - loss: 1.3563 - accuracy: 0.5203 - val_loss: 1.4261 - val_accuracy: 0.4956\n",
      "Epoch 4/100\n",
      "50000/50000 [==============================] - 3s 69us/step - loss: 1.2581 - accuracy: 0.5563 - val_loss: 1.3984 - val_accuracy: 0.5112\n",
      "Epoch 5/100\n",
      "50000/50000 [==============================] - 3s 69us/step - loss: 1.1747 - accuracy: 0.5822 - val_loss: 1.3741 - val_accuracy: 0.5208\n",
      "Epoch 6/100\n",
      "50000/50000 [==============================] - 3s 68us/step - loss: 1.0863 - accuracy: 0.6163 - val_loss: 1.3692 - val_accuracy: 0.5247\n",
      "Epoch 7/100\n",
      "50000/50000 [==============================] - 3s 67us/step - loss: 1.0169 - accuracy: 0.6398 - val_loss: 1.3520 - val_accuracy: 0.5367\n",
      "Epoch 8/100\n",
      "50000/50000 [==============================] - 3s 68us/step - loss: 0.9458 - accuracy: 0.6636 - val_loss: 1.4234 - val_accuracy: 0.5294\n",
      "Epoch 9/100\n",
      "50000/50000 [==============================] - 3s 66us/step - loss: 0.8788 - accuracy: 0.6868 - val_loss: 1.4526 - val_accuracy: 0.5352\n",
      "Epoch 10/100\n",
      "50000/50000 [==============================] - 3s 66us/step - loss: 0.8050 - accuracy: 0.7138 - val_loss: 1.4802 - val_accuracy: 0.5395\n",
      "Epoch 11/100\n",
      "50000/50000 [==============================] - 3s 66us/step - loss: 0.7558 - accuracy: 0.7323 - val_loss: 1.5262 - val_accuracy: 0.5371\n",
      "Epoch 12/100\n",
      "50000/50000 [==============================] - 3s 66us/step - loss: 0.6844 - accuracy: 0.7546 - val_loss: 1.5502 - val_accuracy: 0.5358\n",
      "Epoch 13/100\n",
      "50000/50000 [==============================] - 3s 66us/step - loss: 0.6281 - accuracy: 0.7769 - val_loss: 1.6467 - val_accuracy: 0.5284\n",
      "Epoch 14/100\n",
      "50000/50000 [==============================] - 3s 66us/step - loss: 0.5757 - accuracy: 0.7951 - val_loss: 1.7667 - val_accuracy: 0.5362\n",
      "Epoch 15/100\n",
      "50000/50000 [==============================] - 3s 65us/step - loss: 0.5359 - accuracy: 0.8098 - val_loss: 1.7503 - val_accuracy: 0.5399\n",
      "Epoch 16/100\n",
      "50000/50000 [==============================] - 3s 62us/step - loss: 0.4868 - accuracy: 0.8263 - val_loss: 1.8716 - val_accuracy: 0.5363\n",
      "Epoch 17/100\n",
      "50000/50000 [==============================] - 3s 64us/step - loss: 0.4383 - accuracy: 0.8468 - val_loss: 1.9421 - val_accuracy: 0.5334\n",
      "Epoch 18/100\n",
      "50000/50000 [==============================] - 3s 64us/step - loss: 0.4120 - accuracy: 0.8536 - val_loss: 1.9371 - val_accuracy: 0.5300\n",
      "Epoch 19/100\n",
      "50000/50000 [==============================] - 3s 63us/step - loss: 0.3791 - accuracy: 0.8656 - val_loss: 2.1251 - val_accuracy: 0.5351\n",
      "Epoch 20/100\n",
      "50000/50000 [==============================] - 3s 64us/step - loss: 0.3467 - accuracy: 0.8794 - val_loss: 2.1930 - val_accuracy: 0.5359\n",
      "Epoch 21/100\n",
      "50000/50000 [==============================] - 3s 64us/step - loss: 0.3267 - accuracy: 0.8876 - val_loss: 2.2503 - val_accuracy: 0.5385\n",
      "Epoch 22/100\n",
      "50000/50000 [==============================] - 3s 64us/step - loss: 0.3007 - accuracy: 0.8954 - val_loss: 2.3432 - val_accuracy: 0.5333\n",
      "Epoch 23/100\n",
      "50000/50000 [==============================] - 3s 63us/step - loss: 0.2890 - accuracy: 0.9013 - val_loss: 2.3321 - val_accuracy: 0.5366\n",
      "Epoch 24/100\n",
      "50000/50000 [==============================] - 3s 62us/step - loss: 0.2683 - accuracy: 0.9067 - val_loss: 2.4711 - val_accuracy: 0.5369\n",
      "Epoch 25/100\n",
      "50000/50000 [==============================] - 3s 63us/step - loss: 0.2391 - accuracy: 0.9171 - val_loss: 2.7127 - val_accuracy: 0.5363\n",
      "Epoch 26/100\n",
      "50000/50000 [==============================] - 3s 62us/step - loss: 0.2307 - accuracy: 0.9201 - val_loss: 2.6268 - val_accuracy: 0.5302\n",
      "Epoch 27/100\n",
      "50000/50000 [==============================] - 3s 63us/step - loss: 0.2347 - accuracy: 0.9195 - val_loss: 2.6165 - val_accuracy: 0.5371\n",
      "Epoch 28/100\n",
      "50000/50000 [==============================] - 3s 62us/step - loss: 0.2120 - accuracy: 0.9262 - val_loss: 2.6792 - val_accuracy: 0.5307\n",
      "Epoch 29/100\n",
      "50000/50000 [==============================] - 3s 62us/step - loss: 0.1993 - accuracy: 0.9329 - val_loss: 2.8491 - val_accuracy: 0.5250\n",
      "Epoch 30/100\n",
      "50000/50000 [==============================] - 3s 62us/step - loss: 0.1915 - accuracy: 0.9340 - val_loss: 2.7710 - val_accuracy: 0.5329\n",
      "Epoch 31/100\n",
      "50000/50000 [==============================] - 3s 62us/step - loss: 0.1812 - accuracy: 0.9379 - val_loss: 2.9153 - val_accuracy: 0.5357\n",
      "Epoch 32/100\n",
      "50000/50000 [==============================] - 3s 65us/step - loss: 0.1766 - accuracy: 0.9405 - val_loss: 2.9606 - val_accuracy: 0.5361\n",
      "Epoch 33/100\n",
      "50000/50000 [==============================] - 3s 64us/step - loss: 0.1682 - accuracy: 0.9440 - val_loss: 2.8800 - val_accuracy: 0.5233\n",
      "Epoch 34/100\n",
      "50000/50000 [==============================] - 3s 63us/step - loss: 0.1625 - accuracy: 0.9448 - val_loss: 2.8985 - val_accuracy: 0.5345\n",
      "Epoch 35/100\n",
      "50000/50000 [==============================] - 3s 63us/step - loss: 0.1587 - accuracy: 0.9459 - val_loss: 2.8672 - val_accuracy: 0.5312\n",
      "Epoch 36/100\n",
      "50000/50000 [==============================] - 3s 63us/step - loss: 0.1344 - accuracy: 0.9542 - val_loss: 3.0126 - val_accuracy: 0.5286\n",
      "Epoch 37/100\n",
      "50000/50000 [==============================] - 3s 63us/step - loss: 0.1473 - accuracy: 0.9496 - val_loss: 3.1931 - val_accuracy: 0.5171\n",
      "Epoch 38/100\n",
      "50000/50000 [==============================] - 3s 63us/step - loss: 0.1475 - accuracy: 0.9504 - val_loss: 3.0662 - val_accuracy: 0.5375\n",
      "Epoch 39/100\n",
      "50000/50000 [==============================] - 3s 63us/step - loss: 0.1362 - accuracy: 0.9536 - val_loss: 3.1669 - val_accuracy: 0.5335\n",
      "Epoch 40/100\n",
      "50000/50000 [==============================] - 3s 63us/step - loss: 0.1454 - accuracy: 0.9512 - val_loss: 3.1384 - val_accuracy: 0.5278\n",
      "Epoch 41/100\n",
      "50000/50000 [==============================] - 3s 63us/step - loss: 0.1308 - accuracy: 0.9565 - val_loss: 3.1671 - val_accuracy: 0.5334\n",
      "Epoch 42/100\n",
      "50000/50000 [==============================] - 3s 63us/step - loss: 0.1243 - accuracy: 0.9591 - val_loss: 3.2879 - val_accuracy: 0.5345\n",
      "Epoch 43/100\n",
      "50000/50000 [==============================] - 3s 63us/step - loss: 0.1322 - accuracy: 0.9559 - val_loss: 3.0610 - val_accuracy: 0.5263\n",
      "Epoch 44/100\n",
      "50000/50000 [==============================] - 3s 62us/step - loss: 0.1238 - accuracy: 0.9587 - val_loss: 3.1786 - val_accuracy: 0.5274\n",
      "Epoch 45/100\n",
      "50000/50000 [==============================] - 3s 62us/step - loss: 0.1107 - accuracy: 0.9630 - val_loss: 3.4140 - val_accuracy: 0.5301\n",
      "Epoch 46/100\n",
      "50000/50000 [==============================] - 3s 62us/step - loss: 0.1091 - accuracy: 0.9634 - val_loss: 3.2191 - val_accuracy: 0.5250\n",
      "Epoch 47/100\n",
      "50000/50000 [==============================] - 3s 62us/step - loss: 0.1272 - accuracy: 0.9586 - val_loss: 3.3187 - val_accuracy: 0.5330\n",
      "Epoch 48/100\n",
      "50000/50000 [==============================] - 3s 62us/step - loss: 0.1125 - accuracy: 0.9628 - val_loss: 3.3760 - val_accuracy: 0.5317\n",
      "Epoch 49/100\n",
      "50000/50000 [==============================] - 3s 62us/step - loss: 0.1121 - accuracy: 0.9621 - val_loss: 3.5669 - val_accuracy: 0.5282\n",
      "Epoch 50/100\n",
      "50000/50000 [==============================] - 3s 62us/step - loss: 0.1137 - accuracy: 0.9615 - val_loss: 3.3894 - val_accuracy: 0.5307\n",
      "Epoch 51/100\n",
      "50000/50000 [==============================] - 3s 62us/step - loss: 0.1009 - accuracy: 0.9665 - val_loss: 3.4137 - val_accuracy: 0.5325\n",
      "Epoch 52/100\n",
      "50000/50000 [==============================] - 3s 62us/step - loss: 0.1043 - accuracy: 0.9661 - val_loss: 3.5754 - val_accuracy: 0.5370\n",
      "Epoch 53/100\n",
      "50000/50000 [==============================] - 3s 62us/step - loss: 0.1102 - accuracy: 0.9637 - val_loss: 3.3642 - val_accuracy: 0.5317\n",
      "Epoch 54/100\n",
      "50000/50000 [==============================] - 3s 62us/step - loss: 0.0926 - accuracy: 0.9696 - val_loss: 3.6651 - val_accuracy: 0.5324\n",
      "Epoch 55/100\n",
      "50000/50000 [==============================] - 3s 62us/step - loss: 0.0982 - accuracy: 0.9674 - val_loss: 3.3854 - val_accuracy: 0.5324\n"
     ]
    },
    {
     "name": "stdout",
     "output_type": "stream",
     "text": [
      "Epoch 56/100\n",
      "50000/50000 [==============================] - 3s 62us/step - loss: 0.0971 - accuracy: 0.9678 - val_loss: 3.4956 - val_accuracy: 0.5258\n",
      "Epoch 57/100\n",
      "50000/50000 [==============================] - 3s 62us/step - loss: 0.0990 - accuracy: 0.9668 - val_loss: 3.2333 - val_accuracy: 0.5315\n",
      "Epoch 58/100\n",
      "50000/50000 [==============================] - 3s 62us/step - loss: 0.0967 - accuracy: 0.9678 - val_loss: 3.2792 - val_accuracy: 0.5311\n",
      "Epoch 59/100\n",
      "50000/50000 [==============================] - 3s 62us/step - loss: 0.0893 - accuracy: 0.9708 - val_loss: 3.3936 - val_accuracy: 0.5398\n",
      "Epoch 60/100\n",
      "50000/50000 [==============================] - 3s 62us/step - loss: 0.1050 - accuracy: 0.9661 - val_loss: 3.1672 - val_accuracy: 0.5332\n",
      "Epoch 61/100\n",
      "50000/50000 [==============================] - 3s 62us/step - loss: 0.0914 - accuracy: 0.9710 - val_loss: 3.5745 - val_accuracy: 0.5361\n",
      "Epoch 62/100\n",
      "50000/50000 [==============================] - 3s 62us/step - loss: 0.0810 - accuracy: 0.9727 - val_loss: 3.4701 - val_accuracy: 0.5344\n",
      "Epoch 63/100\n",
      "50000/50000 [==============================] - 3s 62us/step - loss: 0.0833 - accuracy: 0.9732 - val_loss: 3.6767 - val_accuracy: 0.5305\n",
      "Epoch 64/100\n",
      "50000/50000 [==============================] - 3s 62us/step - loss: 0.0874 - accuracy: 0.9706 - val_loss: 3.4112 - val_accuracy: 0.5287\n",
      "Epoch 65/100\n",
      "50000/50000 [==============================] - 3s 62us/step - loss: 0.0822 - accuracy: 0.9731 - val_loss: 3.6938 - val_accuracy: 0.5302\n",
      "Epoch 66/100\n",
      "50000/50000 [==============================] - 3s 62us/step - loss: 0.0827 - accuracy: 0.9741 - val_loss: 3.5647 - val_accuracy: 0.5306\n",
      "Epoch 67/100\n",
      "50000/50000 [==============================] - 3s 62us/step - loss: 0.0868 - accuracy: 0.9721 - val_loss: 3.2316 - val_accuracy: 0.5271\n",
      "Epoch 68/100\n",
      "50000/50000 [==============================] - 3s 62us/step - loss: 0.0805 - accuracy: 0.9728 - val_loss: 3.7201 - val_accuracy: 0.5332\n",
      "Epoch 69/100\n",
      "50000/50000 [==============================] - 3s 62us/step - loss: 0.0816 - accuracy: 0.9731 - val_loss: 3.7717 - val_accuracy: 0.5320\n",
      "Epoch 70/100\n",
      "50000/50000 [==============================] - 3s 62us/step - loss: 0.0879 - accuracy: 0.9715 - val_loss: 3.4038 - val_accuracy: 0.5295\n",
      "Epoch 71/100\n",
      "50000/50000 [==============================] - 3s 62us/step - loss: 0.0817 - accuracy: 0.9729 - val_loss: 3.4730 - val_accuracy: 0.5307\n",
      "Epoch 72/100\n",
      "50000/50000 [==============================] - 3s 62us/step - loss: 0.0730 - accuracy: 0.9764 - val_loss: 3.5926 - val_accuracy: 0.5249\n",
      "Epoch 73/100\n",
      "50000/50000 [==============================] - 3s 62us/step - loss: 0.0762 - accuracy: 0.9754 - val_loss: 3.9582 - val_accuracy: 0.5423\n",
      "Epoch 74/100\n",
      "50000/50000 [==============================] - 3s 62us/step - loss: 0.0856 - accuracy: 0.9733 - val_loss: 3.6160 - val_accuracy: 0.5343\n",
      "Epoch 75/100\n",
      "50000/50000 [==============================] - 3s 62us/step - loss: 0.0795 - accuracy: 0.9738 - val_loss: 3.6070 - val_accuracy: 0.5334\n",
      "Epoch 76/100\n",
      "50000/50000 [==============================] - 3s 62us/step - loss: 0.0710 - accuracy: 0.9776 - val_loss: 3.6521 - val_accuracy: 0.5346\n",
      "Epoch 77/100\n",
      "50000/50000 [==============================] - 3s 62us/step - loss: 0.0821 - accuracy: 0.9745 - val_loss: 3.4696 - val_accuracy: 0.5372\n",
      "Epoch 78/100\n",
      "50000/50000 [==============================] - 3s 62us/step - loss: 0.0762 - accuracy: 0.9763 - val_loss: 3.6310 - val_accuracy: 0.5303\n",
      "Epoch 79/100\n",
      "50000/50000 [==============================] - 3s 63us/step - loss: 0.0718 - accuracy: 0.9778 - val_loss: 3.6266 - val_accuracy: 0.5326\n",
      "Epoch 80/100\n",
      "50000/50000 [==============================] - 3s 65us/step - loss: 0.0733 - accuracy: 0.9766 - val_loss: 3.7922 - val_accuracy: 0.5351\n",
      "Epoch 81/100\n",
      "50000/50000 [==============================] - 3s 66us/step - loss: 0.0761 - accuracy: 0.9758 - val_loss: 3.7885 - val_accuracy: 0.5334\n",
      "Epoch 82/100\n",
      "50000/50000 [==============================] - 4s 70us/step - loss: 0.0782 - accuracy: 0.9753 - val_loss: 3.9231 - val_accuracy: 0.5365\n",
      "Epoch 83/100\n",
      "50000/50000 [==============================] - 3s 68us/step - loss: 0.0744 - accuracy: 0.9764 - val_loss: 3.7994 - val_accuracy: 0.5363\n",
      "Epoch 84/100\n",
      "50000/50000 [==============================] - 3s 67us/step - loss: 0.0679 - accuracy: 0.9788 - val_loss: 3.6735 - val_accuracy: 0.5267\n",
      "Epoch 85/100\n",
      "50000/50000 [==============================] - 3s 68us/step - loss: 0.0714 - accuracy: 0.9772 - val_loss: 3.8723 - val_accuracy: 0.5333\n",
      "Epoch 86/100\n",
      "50000/50000 [==============================] - 3s 69us/step - loss: 0.0751 - accuracy: 0.9766 - val_loss: 3.5909 - val_accuracy: 0.5407\n",
      "Epoch 87/100\n",
      "50000/50000 [==============================] - 3s 67us/step - loss: 0.0587 - accuracy: 0.9810 - val_loss: 3.7876 - val_accuracy: 0.5327\n",
      "Epoch 88/100\n",
      "50000/50000 [==============================] - 3s 68us/step - loss: 0.0722 - accuracy: 0.9771 - val_loss: 3.6229 - val_accuracy: 0.5312\n",
      "Epoch 89/100\n",
      "50000/50000 [==============================] - 4s 70us/step - loss: 0.0652 - accuracy: 0.9798 - val_loss: 3.7286 - val_accuracy: 0.5310\n",
      "Epoch 90/100\n",
      "50000/50000 [==============================] - 4s 73us/step - loss: 0.0637 - accuracy: 0.9796 - val_loss: 3.7403 - val_accuracy: 0.5326\n",
      "Epoch 91/100\n",
      "50000/50000 [==============================] - 3s 70us/step - loss: 0.0646 - accuracy: 0.9799 - val_loss: 3.7289 - val_accuracy: 0.5362\n",
      "Epoch 92/100\n",
      "50000/50000 [==============================] - 3s 69us/step - loss: 0.0702 - accuracy: 0.9781 - val_loss: 3.8974 - val_accuracy: 0.5280\n",
      "Epoch 93/100\n",
      "50000/50000 [==============================] - 3s 68us/step - loss: 0.0731 - accuracy: 0.9762 - val_loss: 3.7342 - val_accuracy: 0.5386\n",
      "Epoch 94/100\n",
      "50000/50000 [==============================] - 3s 68us/step - loss: 0.0610 - accuracy: 0.9804 - val_loss: 4.2248 - val_accuracy: 0.5391\n",
      "Epoch 95/100\n",
      "50000/50000 [==============================] - 3s 68us/step - loss: 0.0735 - accuracy: 0.9776 - val_loss: 3.6925 - val_accuracy: 0.5340\n",
      "Epoch 96/100\n",
      "50000/50000 [==============================] - 3s 68us/step - loss: 0.0609 - accuracy: 0.9814 - val_loss: 3.7914 - val_accuracy: 0.5338\n",
      "Epoch 97/100\n",
      "50000/50000 [==============================] - 4s 71us/step - loss: 0.0587 - accuracy: 0.9818 - val_loss: 3.7041 - val_accuracy: 0.5357\n",
      "Epoch 98/100\n",
      "50000/50000 [==============================] - 3s 68us/step - loss: 0.0700 - accuracy: 0.9781 - val_loss: 3.6047 - val_accuracy: 0.5346\n",
      "Epoch 99/100\n",
      "50000/50000 [==============================] - 3s 68us/step - loss: 0.0598 - accuracy: 0.9811 - val_loss: 4.1909 - val_accuracy: 0.5380\n",
      "Epoch 100/100\n",
      "50000/50000 [==============================] - 3s 68us/step - loss: 0.0597 - accuracy: 0.9822 - val_loss: 3.8909 - val_accuracy: 0.5408\n",
      "Wall time: 5min 23s\n"
     ]
    },
    {
     "data": {
      "text/plain": [
       "<keras.callbacks.callbacks.History at 0x10e8d52d198>"
      ]
     },
     "execution_count": 9,
     "metadata": {},
     "output_type": "execute_result"
    }
   ],
   "source": [
    "%%time\n",
    "model.fit(x_train, y_train, \n",
    "          epochs=EPOCHS, \n",
    "          batch_size=BATCH_SIZE, \n",
    "          validation_data=(x_test, y_test), \n",
    "          shuffle=True)"
   ]
  },
  {
   "cell_type": "code",
   "execution_count": 10,
   "metadata": {},
   "outputs": [
    {
     "data": {
      "image/png": "[encoded data removed]",
      "text/plain": [
       "<Figure size 432x288 with 1 Axes>"
      ]
     },
     "metadata": {
      "needs_background": "light"
     },
     "output_type": "display_data"
    },
    {
     "data": {
      "image/png": "[encoded data removed]",
      "text/plain": [
       "<Figure size 432x288 with 1 Axes>"
      ]
     },
     "metadata": {
      "needs_background": "light"
     },
     "output_type": "display_data"
    }
   ],
   "source": [
    "import matplotlib.pyplot as plt\n",
    "%matplotlib inline\n",
    "\n",
    "train_loss = model.history.history[\"loss\"]\n",
    "valid_loss = model.history.history[\"val_loss\"]\n",
    "\n",
    "train_acc = model.history.history[\"accuracy\"]\n",
    "valid_acc = model.history.history[\"val_accuracy\"]\n",
    "\n",
    "plt.plot(range(len(train_loss)), train_loss, label=\"train loss\")\n",
    "plt.plot(range(len(valid_loss)), valid_loss, label=\"valid loss\")\n",
    "plt.legend()\n",
    "plt.title(\"Loss\")\n",
    "plt.show()\n",
    "\n",
    "plt.plot(range(len(train_acc)), train_acc, label=\"train accuracy\")\n",
    "plt.plot(range(len(valid_acc)), valid_acc, label=\"valid accuracy\")\n",
    "plt.legend()\n",
    "plt.title(\"Accuracy\")\n",
    "plt.show()"
   ]
  },
  {
   "cell_type": "markdown",
   "metadata": {},
   "source": []
  }
 ],
 "metadata": {
  "kernelspec": {
   "display_name": "Python 3",
   "language": "python",
   "name": "python3"
  },
  "language_info": {
   "codemirror_mode": {
    "name": "ipython",
    "version": 3
   },
   "file_extension": ".py",
   "mimetype": "text/x-python",
   "name": "python",
   "nbconvert_exporter": "python",
   "pygments_lexer": "ipython3",
   "version": "3.6.9"
  }
 },
 "nbformat": 4,
 "nbformat_minor": 2
}
