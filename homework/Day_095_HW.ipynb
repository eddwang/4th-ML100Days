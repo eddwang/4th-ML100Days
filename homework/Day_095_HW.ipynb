{
 "cells": [
  {
   "cell_type": "markdown",
   "metadata": {},
   "source": [
    "# 作業目標:\n",
    "    了解 Padding 的作法\n",
    "    \n",
    "    了解 Pooling 的作法"
   ]
  },
  {
   "cell_type": "markdown",
   "metadata": {},
   "source": [
    "# 作業重點:\n",
    "    (1) 調整Padding 的設定, 看 Pad 後的結果\n",
    "    \n",
    "    (2) 調整Pooling 的設定, 看 Poolin 後的結果"
   ]
  },
  {
   "cell_type": "code",
   "execution_count": 1,
   "metadata": {},
   "outputs": [],
   "source": [
    "import numpy as np\n",
    "import h5py\n",
    "import matplotlib.pyplot as plt\n",
    "\n",
    "# 繪圖結果直接顯示在Jupyter cell 之內\n",
    "%matplotlib inline  \n",
    "plt.rcParams['figure.figsize'] = (5.0, 4.0) #  設定繪圖板的大小\n",
    "plt.rcParams['image.interpolation'] = 'nearest'\n",
    "plt.rcParams['image.cmap'] = 'gray'\n",
    "\n",
    "# autoreload。可以讓我們不退出IPython就動態修改代碼，在執行代碼前IPython會幫我們自動重載改動的模塊\n",
    "%load_ext autoreload\n",
    "%autoreload 2\n",
    "np.random.seed(1)"
   ]
  },
  {
   "cell_type": "code",
   "execution_count": 2,
   "metadata": {},
   "outputs": [],
   "source": [
    "# GRADED FUNCTION: zero_pad\n",
    "def zero_pad(X, pad):\n",
    "    \"\"\"\n",
    "    對image X 做 zero-padding. \n",
    "    參數定義如下:\n",
    "    X -- python numpy array, 呈現維度 (m, n_H, n_W, n_C), 代表一批 m 個圖像\n",
    "         n_H: 圖高, n_W: 圖寬, n_C: color channels 數\n",
    "    pad -- 整數, 加幾圈的 zero padding.\n",
    "    Returns:\n",
    "    X_pad -- image of shape (m, n_H + 2*pad, n_W + 2*pad, n_C) 做完zero-padding 的結果\n",
    "    \"\"\"\n",
    "    \n",
    "    X_pad = np.pad(X, ((0, 0), (pad, pad), (pad, pad), (0, 0)), 'constant', constant_values=(0, 0))\n",
    "  \n",
    "    return X_pad"
   ]
  },
  {
   "cell_type": "code",
   "execution_count": 23,
   "metadata": {},
   "outputs": [
    {
     "name": "stdout",
     "output_type": "stream",
     "text": [
      "x.shape = (2, 4, 4, 2)\n",
      "x_pad.shape = (2, 8, 8, 2)\n",
      "x[1,1] =\n",
      " [[-0.19183555 -0.88762896]\n",
      " [-0.74715829  1.6924546 ]\n",
      " [ 0.05080775 -0.63699565]\n",
      " [ 0.19091548  2.10025514]]\n",
      "x_pad[1,1] =\n",
      " [[0. 0.]\n",
      " [0. 0.]\n",
      " [0. 0.]\n",
      " [0. 0.]\n",
      " [0. 0.]\n",
      " [0. 0.]\n",
      " [0. 0.]\n",
      " [0. 0.]]\n"
     ]
    },
    {
     "data": {
      "image/png": "[encoded data removed]",
      "text/plain": [
       "<Figure size 432x288 with 2 Axes>"
      ]
     },
     "metadata": {
      "needs_background": "light"
     },
     "output_type": "display_data"
    }
   ],
   "source": [
    "'''\n",
    "作業修改\n",
    "np.random.seed(1)\n",
    "\n",
    "x = \n",
    "x_pad = \n",
    "\n",
    "'''\n",
    "np.random.seed(1)\n",
    "x = np.random.randn(2, 4, 4,2) \n",
    "x_pad = zero_pad(x, 2) \n",
    "print (\"x.shape =\", x.shape)\n",
    "print (\"x_pad.shape =\", x_pad.shape)\n",
    "print (\"x[1,1] =\\n\", x[1,1])\n",
    "print (\"x_pad[1,1] =\\n\", x_pad[1,1])\n",
    "fig, axarr = plt.subplots(1, 2)\n",
    "axarr[0].set_title('x')\n",
    "axarr[0].imshow(x[0,:,:,0])\n",
    "axarr[1].set_title('x_pad')\n",
    "axarr[1].imshow(x_pad[0,:,:,0])\n"
   ]
  },
  {
   "cell_type": "code",
   "execution_count": 24,
   "metadata": {},
   "outputs": [
    {
     "name": "stdout",
     "output_type": "stream",
     "text": [
      "x.shape = (2, 4, 4, 2)\n",
      "x_pad.shape = (2, 10, 10, 2)\n",
      "x[1,1] =\n",
      " [[-0.19183555 -0.88762896]\n",
      " [-0.74715829  1.6924546 ]\n",
      " [ 0.05080775 -0.63699565]\n",
      " [ 0.19091548  2.10025514]]\n",
      "x_pad[1,1] =\n",
      " [[0. 0.]\n",
      " [0. 0.]\n",
      " [0. 0.]\n",
      " [0. 0.]\n",
      " [0. 0.]\n",
      " [0. 0.]\n",
      " [0. 0.]\n",
      " [0. 0.]\n",
      " [0. 0.]\n",
      " [0. 0.]]\n"
     ]
    },
    {
     "data": {
      "text/plain": [
       "<matplotlib.image.AxesImage at 0x1d126ee4f60>"
      ]
     },
     "execution_count": 24,
     "metadata": {},
     "output_type": "execute_result"
    },
    {
     "data": {
      "image/png": "[encoded data removed]",
      "text/plain": [
       "<Figure size 432x288 with 2 Axes>"
      ]
     },
     "metadata": {
      "needs_background": "light"
     },
     "output_type": "display_data"
    }
   ],
   "source": [
    "x = np.random.randn(2, 4, 4,2) \n",
    "x_pad = zero_pad(x, 3) \n",
    "print (\"x.shape =\", x.shape)\n",
    "print (\"x_pad.shape =\", x_pad.shape)\n",
    "print (\"x[1,1] =\\n\", x[1,1])\n",
    "print (\"x_pad[1,1] =\\n\", x_pad[1,1])\n",
    "fig, axarr = plt.subplots(1, 2)\n",
    "axarr[0].set_title('x')\n",
    "axarr[0].imshow(x[0,:,:,0])\n",
    "axarr[1].set_title('x_pad')\n",
    "axarr[1].imshow(x_pad[0,:,:,0])"
   ]
  },
  {
   "cell_type": "code",
   "execution_count": 4,
   "metadata": {},
   "outputs": [],
   "source": [
    "# GRADED FUNCTION: pool_forward\n",
    "def pool_forward(A_prev, hparameters, mode = \"max\"):\n",
    "    \"\"\"\n",
    "    設計一個前行網路的池化層\n",
    "    參數定義如下:\n",
    "    A_prev -- 輸入的numpy 陣列, 維度 (m, n_H_prev, n_W_prev, n_C_prev)\n",
    "    hparameter 超參數 --  \"f\" and \"stride\" 所形成的python 字典\n",
    "    mode -- 池化的模式: \"max\" or \"average\"\n",
    "    \n",
    "    返回:\n",
    "        A -- 輸出的池化層, 維度為 (m, n_H, n_W, n_C) 的 numpy 陣列\n",
    "        cache -- 可以應用在 backward pass pooling layer 資料, 包含 input and hparameter\n",
    "    \"\"\"\n",
    "\n",
    "    # 檢索尺寸 from the input shape\n",
    "    (m, n_H_prev, n_W_prev, n_C_prev) = A_prev.shape\n",
    " \n",
    "    # 檢索超參數 from \"hparameters\"\n",
    "    f = hparameters[\"f\"]\n",
    "    stride = hparameters[\"stride\"]\n",
    "\n",
    "    # 定義輸出的dimensions\n",
    "    n_H = int(1 + (n_H_prev - f) / stride)\n",
    "    n_W = int(1 + (n_W_prev - f) / stride)\n",
    "    n_C = n_C_prev\n",
    "\n",
    "    # 初始化輸出的 matrix A\n",
    "    A = np.zeros((m, n_H, n_W, n_C))\n",
    "\n",
    "    ### 程式起始位置  ###\n",
    "    for i in range(m): # 訓練樣本的for 迴圈\n",
    "        for h in range(n_H): # 輸出樣本的for 迴圈, 針對vertical axis\n",
    "            for w in range(n_W): #  輸出樣本的for 迴圈, 針對 horizontal axis\n",
    "                for c in range (n_C): #  輸出樣本的for 迴圈, 針對channels\n",
    "\n",
    "                     # 找出特徵圖的寬度跟高度四個點\n",
    "                    vert_start = h * stride\n",
    "                    vert_end = h * stride+ f\n",
    "                    horiz_start = w * stride\n",
    "                    horiz_end = w * stride + f\n",
    "\n",
    "                    # 定義第i個訓練示例\n",
    "                    a_prev_slice = A_prev[i, vert_start:vert_end, horiz_start:horiz_end,c]\n",
    "\n",
    "                    # 計算輸入data 的池化結果. 使用 if statment 去做分類\n",
    "                    if mode == \"max\":\n",
    "                        A[i, h, w, c] = np.max(a_prev_slice)\n",
    "                    elif mode == \"average\":\n",
    "                        A[i, h, w, c] = np.mean(a_prev_slice)\n",
    "\n",
    "                        ### 程式結束  ###\n",
    "    \n",
    "    # 儲存輸入的特徵圖跟所設定的超參數, 可以用在 pool_backward()\n",
    "    cache = (A_prev, hparameters)\n",
    "    \n",
    "    # 確認輸出的資料維度\n",
    "    assert(A.shape == (m, n_H, n_W, n_C))\n",
    "    return A, cache"
   ]
  },
  {
   "cell_type": "code",
   "execution_count": 31,
   "metadata": {},
   "outputs": [
    {
     "name": "stdout",
     "output_type": "stream",
     "text": [
      "mode = max\n",
      "A =\n",
      " [[[[ 1.62434536 -0.61175641 -0.52817175]\n",
      "   [-1.07296862  0.86540763 -2.3015387 ]\n",
      "   [ 1.74481176 -0.7612069   0.3190391 ]\n",
      "   [-0.24937038  1.46210794 -2.06014071]]\n",
      "\n",
      "  [[-0.3224172  -0.38405435  1.13376944]\n",
      "   [-1.09989127 -0.17242821 -0.87785842]\n",
      "   [ 0.04221375  0.58281521 -1.10061918]\n",
      "   [ 1.14472371  0.90159072  0.50249434]]\n",
      "\n",
      "  [[ 0.90085595 -0.68372786 -0.12289023]\n",
      "   [-0.93576943 -0.26788808  0.53035547]\n",
      "   [-0.69166075 -0.39675353 -0.6871727 ]\n",
      "   [-0.84520564 -0.67124613 -0.0126646 ]]\n",
      "\n",
      "  [[-1.11731035  0.2344157   1.65980218]\n",
      "   [ 0.74204416 -0.19183555 -0.88762896]\n",
      "   [-0.74715829  1.6924546   0.05080775]\n",
      "   [-0.63699565  0.19091548  2.10025514]]]\n",
      "\n",
      "\n",
      " [[[ 0.12015895  0.61720311  0.30017032]\n",
      "   [-0.35224985 -1.1425182  -0.34934272]\n",
      "   [-0.20889423  0.58662319  0.83898341]\n",
      "   [ 0.93110208  0.28558733  0.88514116]]\n",
      "\n",
      "  [[-0.75439794  1.25286816  0.51292982]\n",
      "   [-0.29809284  0.48851815 -0.07557171]\n",
      "   [ 1.13162939  1.51981682  2.18557541]\n",
      "   [-1.39649634 -1.44411381 -0.50446586]]\n",
      "\n",
      "  [[ 0.16003707  0.87616892  0.31563495]\n",
      "   [-2.02220122 -0.30620401  0.82797464]\n",
      "   [ 0.23009474  0.76201118 -0.22232814]\n",
      "   [-0.20075807  0.18656139  0.41005165]]\n",
      "\n",
      "  [[ 0.19829972  0.11900865 -0.67066229]\n",
      "   [ 0.37756379  0.12182127  1.12948391]\n",
      "   [ 1.19891788  0.18515642 -0.37528495]\n",
      "   [-0.63873041  0.42349435  0.07734007]]]]\n",
      "\n",
      "mode = average\n",
      "A =\n",
      " [[[[ 1.62434536 -0.61175641 -0.52817175]\n",
      "   [-1.07296862  0.86540763 -2.3015387 ]\n",
      "   [ 1.74481176 -0.7612069   0.3190391 ]\n",
      "   [-0.24937038  1.46210794 -2.06014071]]\n",
      "\n",
      "  [[-0.3224172  -0.38405435  1.13376944]\n",
      "   [-1.09989127 -0.17242821 -0.87785842]\n",
      "   [ 0.04221375  0.58281521 -1.10061918]\n",
      "   [ 1.14472371  0.90159072  0.50249434]]\n",
      "\n",
      "  [[ 0.90085595 -0.68372786 -0.12289023]\n",
      "   [-0.93576943 -0.26788808  0.53035547]\n",
      "   [-0.69166075 -0.39675353 -0.6871727 ]\n",
      "   [-0.84520564 -0.67124613 -0.0126646 ]]\n",
      "\n",
      "  [[-1.11731035  0.2344157   1.65980218]\n",
      "   [ 0.74204416 -0.19183555 -0.88762896]\n",
      "   [-0.74715829  1.6924546   0.05080775]\n",
      "   [-0.63699565  0.19091548  2.10025514]]]\n",
      "\n",
      "\n",
      " [[[ 0.12015895  0.61720311  0.30017032]\n",
      "   [-0.35224985 -1.1425182  -0.34934272]\n",
      "   [-0.20889423  0.58662319  0.83898341]\n",
      "   [ 0.93110208  0.28558733  0.88514116]]\n",
      "\n",
      "  [[-0.75439794  1.25286816  0.51292982]\n",
      "   [-0.29809284  0.48851815 -0.07557171]\n",
      "   [ 1.13162939  1.51981682  2.18557541]\n",
      "   [-1.39649634 -1.44411381 -0.50446586]]\n",
      "\n",
      "  [[ 0.16003707  0.87616892  0.31563495]\n",
      "   [-2.02220122 -0.30620401  0.82797464]\n",
      "   [ 0.23009474  0.76201118 -0.22232814]\n",
      "   [-0.20075807  0.18656139  0.41005165]]\n",
      "\n",
      "  [[ 0.19829972  0.11900865 -0.67066229]\n",
      "   [ 0.37756379  0.12182127  1.12948391]\n",
      "   [ 1.19891788  0.18515642 -0.37528495]\n",
      "   [-0.63873041  0.42349435  0.07734007]]]]\n"
     ]
    }
   ],
   "source": [
    "'''\n",
    "作業修改\n",
    "np.random.seed(1)\n",
    "A_prev = \n",
    "hparameters = \n",
    "'''\n",
    "np.random.seed(1)\n",
    "A_prev = np.random.randn(2, 4, 4, 3)\n",
    "hparameters = {\"stride\" : 1, \"f\": 1}\n",
    "A, cache = pool_forward(A_prev, hparameters)\n",
    "print(\"mode = max\")\n",
    "print(\"A =\\n\", A)\n",
    "print()\n",
    "A, cache = pool_forward(A_prev, hparameters, mode = \"average\")\n",
    "print(\"mode = average\")\n",
    "print(\"A =\\n\", A)"
   ]
  },
  {
   "cell_type": "code",
   "execution_count": 43,
   "metadata": {},
   "outputs": [
    {
     "name": "stdout",
     "output_type": "stream",
     "text": [
      "mode = max\n",
      "A =\n",
      " [[[[1.74481176 0.86540763 1.13376944]\n",
      "   [1.74481176 1.46210794 0.53035547]]\n",
      "\n",
      "  [[0.90085595 1.6924546  1.65980218]\n",
      "   [1.14472371 1.6924546  2.10025514]]]\n",
      "\n",
      "\n",
      " [[[1.13162939 1.51981682 2.18557541]\n",
      "   [1.13162939 1.51981682 2.18557541]]\n",
      "\n",
      "  [[1.19891788 1.51981682 2.18557541]\n",
      "   [1.19891788 1.51981682 2.18557541]]]]\n",
      "\n",
      "mode = average\n",
      "A =\n",
      " [[[[ 0.02105773 -0.20328806 -0.40389855]\n",
      "   [-0.2181241   0.17137763 -0.63201171]]\n",
      "\n",
      "  [[-0.35878816  0.04588866 -0.03349274]\n",
      "   [-0.33641105  0.18529161 -0.04244791]]]\n",
      "\n",
      "\n",
      " [[[-0.22154621  0.51716526  0.48155844]\n",
      "   [-0.24287404  0.10403134  0.44400198]]\n",
      "\n",
      "  [[ 0.02465007  0.55768506  0.40308351]\n",
      "   [-0.1797859   0.21522908  0.38364167]]]]\n"
     ]
    }
   ],
   "source": [
    "np.random.seed(1)\n",
    "A_prev = np.random.randn(2, 4, 4, 3)\n",
    "hparameters = {\"stride\" : 1, \"f\": 3}\n",
    "A, cache = pool_forward(A_prev, hparameters)\n",
    "print(\"mode = max\")\n",
    "print(\"A =\\n\", A)\n",
    "print()\n",
    "A, cache = pool_forward(A_prev, hparameters, mode = \"average\")\n",
    "print(\"mode = average\")\n",
    "print(\"A =\\n\", A)"
   ]
  },
  {
   "cell_type": "code",
   "execution_count": 44,
   "metadata": {},
   "outputs": [
    {
     "name": "stdout",
     "output_type": "stream",
     "text": [
      "mode = max\n",
      "A =\n",
      " [[[[ 1.62434536 -0.61175641 -0.52817175]\n",
      "   [ 1.74481176 -0.7612069   0.3190391 ]]\n",
      "\n",
      "  [[ 0.90085595 -0.68372786 -0.12289023]\n",
      "   [-0.69166075 -0.39675353 -0.6871727 ]]]\n",
      "\n",
      "\n",
      " [[[ 0.12015895  0.61720311  0.30017032]\n",
      "   [-0.20889423  0.58662319  0.83898341]]\n",
      "\n",
      "  [[ 0.16003707  0.87616892  0.31563495]\n",
      "   [ 0.23009474  0.76201118 -0.22232814]]]]\n",
      "\n",
      "mode = average\n",
      "A =\n",
      " [[[[ 1.62434536 -0.61175641 -0.52817175]\n",
      "   [ 1.74481176 -0.7612069   0.3190391 ]]\n",
      "\n",
      "  [[ 0.90085595 -0.68372786 -0.12289023]\n",
      "   [-0.69166075 -0.39675353 -0.6871727 ]]]\n",
      "\n",
      "\n",
      " [[[ 0.12015895  0.61720311  0.30017032]\n",
      "   [-0.20889423  0.58662319  0.83898341]]\n",
      "\n",
      "  [[ 0.16003707  0.87616892  0.31563495]\n",
      "   [ 0.23009474  0.76201118 -0.22232814]]]]\n"
     ]
    }
   ],
   "source": [
    "np.random.seed(1)\n",
    "A_prev = np.random.randn(2, 4, 4, 3)\n",
    "hparameters = {\"stride\" : 2, \"f\": 1}\n",
    "A, cache = pool_forward(A_prev, hparameters)\n",
    "print(\"mode = max\")\n",
    "print(\"A =\\n\", A)\n",
    "print()\n",
    "A, cache = pool_forward(A_prev, hparameters, mode = \"average\")\n",
    "print(\"mode = average\")\n",
    "print(\"A =\\n\", A)"
   ]
  },
  {
   "cell_type": "code",
   "execution_count": null,
   "metadata": {},
   "outputs": [],
   "source": []
  }
 ],
 "metadata": {
  "kernelspec": {
   "display_name": "Python 3",
   "language": "python",
   "name": "python3"
  },
  "language_info": {
   "codemirror_mode": {
    "name": "ipython",
    "version": 3
   },
   "file_extension": ".py",
   "mimetype": "text/x-python",
   "name": "python",
   "nbconvert_exporter": "python",
   "pygments_lexer": "ipython3",
   "version": "3.6.9"
  }
 },
 "nbformat": 4,
 "nbformat_minor": 2
}
