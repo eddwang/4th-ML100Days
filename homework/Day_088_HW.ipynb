{
 "cells": [
  {
   "cell_type": "markdown",
   "metadata": {},
   "source": [
    "## Work\n",
    "1. 請嘗試寫一個 callback 用來記錄各類別在訓練過程中，對驗證集的 True Positive 與 True Negative"
   ]
  },
  {
   "cell_type": "code",
   "execution_count": 1,
   "metadata": {},
   "outputs": [
    {
     "name": "stderr",
     "output_type": "stream",
     "text": [
      "Using TensorFlow backend.\n"
     ]
    }
   ],
   "source": [
    "import os\n",
    "import keras\n",
    "import numpy as np\n",
    "# Disable GPU\n",
    "# os.environ[\"CUDA_VISIBLE_DEVICES\"] = \"\""
   ]
  },
  {
   "cell_type": "code",
   "execution_count": 2,
   "metadata": {},
   "outputs": [],
   "source": [
    "train, test = keras.datasets.cifar10.load_data()"
   ]
  },
  {
   "cell_type": "code",
   "execution_count": 3,
   "metadata": {},
   "outputs": [],
   "source": [
    "## 資料前處理\n",
    "def preproc_x(x, flatten=True):\n",
    "    x = x / 255.\n",
    "    if flatten:\n",
    "        x = x.reshape((len(x), -1))\n",
    "    return x\n",
    "\n",
    "def preproc_y(y, num_classes=10):\n",
    "    if y.shape[-1] == 1:\n",
    "        y = keras.utils.to_categorical(y, num_classes)\n",
    "    return y    "
   ]
  },
  {
   "cell_type": "code",
   "execution_count": 4,
   "metadata": {},
   "outputs": [],
   "source": [
    "x_train, y_train = train\n",
    "x_test, y_test = test\n",
    "\n",
    "# Preproc the inputs\n",
    "x_train = preproc_x(x_train)\n",
    "x_test = preproc_x(x_test)\n",
    "\n",
    "# Preprc the outputs\n",
    "y_train = preproc_y(y_train)\n",
    "y_test = preproc_y(y_test)"
   ]
  },
  {
   "cell_type": "code",
   "execution_count": 5,
   "metadata": {},
   "outputs": [],
   "source": [
    "from keras.layers import BatchNormalization\n",
    "\n",
    "\"\"\"\n",
    "建立神經網路，並加入 BN layer\n",
    "\"\"\"\n",
    "def build_mlp(input_shape, output_units=10, num_neurons=[512, 256, 128]):\n",
    "    input_layer = keras.layers.Input(input_shape)\n",
    "    \n",
    "    for i, n_units in enumerate(num_neurons):\n",
    "        if i == 0:\n",
    "            x = keras.layers.Dense(units=n_units, \n",
    "                                   activation=\"relu\", \n",
    "                                   name=\"hidden_layer\"+str(i+1))(input_layer)\n",
    "            x = BatchNormalization()(x)\n",
    "        else:\n",
    "            x = keras.layers.Dense(units=n_units, \n",
    "                                   activation=\"relu\", \n",
    "                                   name=\"hidden_layer\"+str(i+1))(x)\n",
    "            x = BatchNormalization()(x)\n",
    "    \n",
    "    out = keras.layers.Dense(units=output_units, activation=\"softmax\", name=\"output\")(x)\n",
    "    \n",
    "    model = keras.models.Model(inputs=[input_layer], outputs=[out])\n",
    "    return model"
   ]
  },
  {
   "cell_type": "code",
   "execution_count": 6,
   "metadata": {},
   "outputs": [],
   "source": [
    "## 超參數設定\n",
    "LEARNING_RATE = 1e-3\n",
    "EPOCHS = 25\n",
    "BATCH_SIZE = 1024\n",
    "MOMENTUM = 0.95"
   ]
  },
  {
   "cell_type": "code",
   "execution_count": 7,
   "metadata": {},
   "outputs": [],
   "source": [
    "# 載入 Callbacks\n",
    "from keras.callbacks import Callback\n",
    "from sklearn.metrics import confusion_matrix\n",
    "\n",
    "# Record_fp_tp\n",
    "class Record_tp_tn(Callback):    \n",
    "    \"\"\"Code Here\n",
    "    撰寫一個紀錄 ture positive 與 true negative 數量的 callbacks    \n",
    "    \"\"\"\n",
    "    def on_train_begin(self, epoch, logs = {}):\n",
    "        logs = logs or {}\n",
    "        record_items = [\"val_auc\", \"val_f1sc\", \"val_fp\", \"val_fn\", \"val_tp\", \"val_tn\"]\n",
    "        for i in record_items:\n",
    "            if i not in self.params['metrics']:\n",
    "                self.params['metrics'].append(i)\n",
    "    \n",
    "    def on_epoch_end(self, epoch, logs = {}, thres=0.5):\n",
    "        logs = logs or {}\n",
    "        y_true = self.validation_data[1].argmax(axis = 1)\n",
    "        y_pred = self.model.predict(self.validation_data[0])\n",
    "        y_pred = (y_pred[:, 1] >= thres) * 1\n",
    "\n",
    "        logs[\"val_tp\"] = np.sum(y_pred == y_true)\n",
    "        logs[\"val_tn\"] = np.sum(y_pred != y_true)\n",
    "rec_tptn = Record_tp_tn()"
   ]
  },
  {
   "cell_type": "code",
   "execution_count": 8,
   "metadata": {
    "scrolled": false
   },
   "outputs": [
    {
     "name": "stdout",
     "output_type": "stream",
     "text": [
      "Train on 50000 samples, validate on 10000 samples\n",
      "Epoch 1/25\n",
      "50000/50000 [==============================] - 3s 57us/step - loss: 2.2068 - accuracy: 0.2699 - val_loss: 2.1405 - val_accuracy: 0.1882\n",
      "Epoch 2/25\n",
      "50000/50000 [==============================] - 2s 43us/step - loss: 1.7384 - accuracy: 0.3966 - val_loss: 1.9519 - val_accuracy: 0.3068\n",
      "Epoch 3/25\n",
      "50000/50000 [==============================] - 2s 46us/step - loss: 1.6194 - accuracy: 0.4342 - val_loss: 1.8055 - val_accuracy: 0.3791\n",
      "Epoch 4/25\n",
      "50000/50000 [==============================] - 2s 46us/step - loss: 1.5508 - accuracy: 0.4589 - val_loss: 1.7037 - val_accuracy: 0.4076\n",
      "Epoch 5/25\n",
      "50000/50000 [==============================] - 2s 45us/step - loss: 1.4953 - accuracy: 0.4781 - val_loss: 1.6393 - val_accuracy: 0.4311\n",
      "Epoch 6/25\n",
      "50000/50000 [==============================] - 2s 46us/step - loss: 1.4492 - accuracy: 0.4958 - val_loss: 1.5809 - val_accuracy: 0.4488\n",
      "Epoch 7/25\n",
      "50000/50000 [==============================] - 2s 48us/step - loss: 1.4121 - accuracy: 0.5088 - val_loss: 1.5447 - val_accuracy: 0.4538\n",
      "Epoch 8/25\n",
      "50000/50000 [==============================] - 3s 52us/step - loss: 1.3748 - accuracy: 0.5208 - val_loss: 1.5208 - val_accuracy: 0.4622\n",
      "Epoch 9/25\n",
      "50000/50000 [==============================] - 2s 50us/step - loss: 1.3417 - accuracy: 0.5349 - val_loss: 1.4946 - val_accuracy: 0.4650\n",
      "Epoch 10/25\n",
      "50000/50000 [==============================] - 3s 50us/step - loss: 1.3108 - accuracy: 0.5442 - val_loss: 1.4825 - val_accuracy: 0.4707\n",
      "Epoch 11/25\n",
      "50000/50000 [==============================] - 2s 44us/step - loss: 1.2830 - accuracy: 0.5546 - val_loss: 1.4872 - val_accuracy: 0.4723\n",
      "Epoch 12/25\n",
      "50000/50000 [==============================] - 2s 47us/step - loss: 1.2565 - accuracy: 0.5640 - val_loss: 1.4711 - val_accuracy: 0.4786\n",
      "Epoch 13/25\n",
      "50000/50000 [==============================] - 2s 44us/step - loss: 1.2298 - accuracy: 0.5753 - val_loss: 1.4601 - val_accuracy: 0.4821\n",
      "Epoch 14/25\n",
      "50000/50000 [==============================] - 2s 44us/step - loss: 1.2049 - accuracy: 0.5831 - val_loss: 1.4668 - val_accuracy: 0.4833\n",
      "Epoch 15/25\n",
      "50000/50000 [==============================] - 2s 47us/step - loss: 1.1811 - accuracy: 0.5935 - val_loss: 1.4635 - val_accuracy: 0.4830\n",
      "Epoch 16/25\n",
      "50000/50000 [==============================] - 2s 44us/step - loss: 1.1586 - accuracy: 0.6010 - val_loss: 1.4699 - val_accuracy: 0.4836\n",
      "Epoch 17/25\n",
      "50000/50000 [==============================] - 2s 45us/step - loss: 1.1341 - accuracy: 0.6107 - val_loss: 1.4546 - val_accuracy: 0.4931\n",
      "Epoch 18/25\n",
      "50000/50000 [==============================] - 2s 46us/step - loss: 1.1102 - accuracy: 0.6184 - val_loss: 1.4599 - val_accuracy: 0.4898\n",
      "Epoch 19/25\n",
      "50000/50000 [==============================] - 2s 45us/step - loss: 1.0886 - accuracy: 0.6267 - val_loss: 1.4639 - val_accuracy: 0.4846\n",
      "Epoch 20/25\n",
      "50000/50000 [==============================] - 2s 46us/step - loss: 1.0670 - accuracy: 0.6365 - val_loss: 1.4588 - val_accuracy: 0.4938\n",
      "Epoch 21/25\n",
      "50000/50000 [==============================] - 3s 52us/step - loss: 1.0467 - accuracy: 0.6442 - val_loss: 1.4530 - val_accuracy: 0.4968\n",
      "Epoch 22/25\n",
      "50000/50000 [==============================] - 3s 51us/step - loss: 1.0223 - accuracy: 0.6538 - val_loss: 1.4685 - val_accuracy: 0.4841\n",
      "Epoch 23/25\n",
      "50000/50000 [==============================] - 3s 56us/step - loss: 1.0045 - accuracy: 0.6597 - val_loss: 1.4589 - val_accuracy: 0.4935\n",
      "Epoch 24/25\n",
      "50000/50000 [==============================] - 2s 49us/step - loss: 0.9829 - accuracy: 0.6689 - val_loss: 1.4563 - val_accuracy: 0.4971\n",
      "Epoch 25/25\n",
      "50000/50000 [==============================] - 2s 49us/step - loss: 0.9620 - accuracy: 0.6774 - val_loss: 1.4613 - val_accuracy: 0.4933\n"
     ]
    }
   ],
   "source": [
    "model = build_mlp(input_shape=x_train.shape[1:])\n",
    "#model.summary()\n",
    "optimizer = keras.optimizers.SGD(lr=LEARNING_RATE, nesterov=True, momentum=MOMENTUM)\n",
    "model.compile(loss=\"categorical_crossentropy\", metrics=[\"accuracy\"], optimizer=optimizer)\n",
    "\n",
    "\"\"\"Code Here\n",
    "將 callbacks 放入模型訓練流程中\n",
    "\"\"\"\n",
    "model.fit(x_train, y_train, \n",
    "          epochs=EPOCHS, \n",
    "          batch_size=BATCH_SIZE, \n",
    "          validation_data=(x_test, y_test), \n",
    "          shuffle=True,\n",
    "          callbacks=[rec_tptn]\n",
    "         )\n",
    "\n",
    "# Collect results\n",
    "train_loss = model.history.history[\"loss\"]\n",
    "valid_loss = model.history.history[\"val_loss\"]\n",
    "train_acc = model.history.history[\"accuracy\"]\n",
    "valid_acc = model.history.history[\"val_accuracy\"]\n",
    "\n",
    "\"\"\"Code Here\n",
    "將 tp/tn 從訓練完的模型中取出\n",
    "\"\"\"\n",
    "valid_tp = model.history.history['val_tp']\n",
    "valid_tn = model.history.history['val_tn']\n"
   ]
  },
  {
   "cell_type": "code",
   "execution_count": 9,
   "metadata": {},
   "outputs": [
    {
     "data": {
      "image/png": "[encoded data removed]",
      "text/plain": [
       "<Figure size 432x288 with 1 Axes>"
      ]
     },
     "metadata": {
      "needs_background": "light"
     },
     "output_type": "display_data"
    },
    {
     "data": {
      "image/png": "[encoded data removed]",
      "text/plain": [
       "<Figure size 432x288 with 1 Axes>"
      ]
     },
     "metadata": {
      "needs_background": "light"
     },
     "output_type": "display_data"
    },
    {
     "data": {
      "image/png": "[encoded data removed]",
      "text/plain": [
       "<Figure size 432x288 with 1 Axes>"
      ]
     },
     "metadata": {
      "needs_background": "light"
     },
     "output_type": "display_data"
    }
   ],
   "source": [
    "import matplotlib.pyplot as plt\n",
    "%matplotlib inline\n",
    "\n",
    "plt.plot(range(len(train_loss)), train_loss, label=\"train loss\")\n",
    "plt.plot(range(len(valid_loss)), valid_loss, label=\"valid loss\")\n",
    "plt.legend()\n",
    "plt.title(\"Loss\")\n",
    "plt.show()\n",
    "\n",
    "plt.plot(range(len(train_acc)), train_acc, label=\"train accuracy\")\n",
    "plt.plot(range(len(valid_acc)), valid_acc, label=\"valid accuracy\")\n",
    "plt.legend()\n",
    "plt.title(\"Accuracy\")\n",
    "plt.show()\n",
    "\n",
    "plt.plot(range(len(valid_tp)), valid_tp, label=\"valid tp\", color=\"navy\")\n",
    "plt.plot(range(len(valid_tn)), valid_tn, label=\"valid tn\", color=\"red\")\n",
    "plt.legend()\n",
    "plt.title(\"True positives and True Negatives\")\n",
    "plt.show()\n"
   ]
  },
  {
   "cell_type": "code",
   "execution_count": null,
   "metadata": {},
   "outputs": [],
   "source": []
  }
 ],
 "metadata": {
  "kernelspec": {
   "display_name": "Python 3",
   "language": "python",
   "name": "python3"
  },
  "language_info": {
   "codemirror_mode": {
    "name": "ipython",
    "version": 3
   },
   "file_extension": ".py",
   "mimetype": "text/x-python",
   "name": "python",
   "nbconvert_exporter": "python",
   "pygments_lexer": "ipython3",
   "version": "3.6.9"
  }
 },
 "nbformat": 4,
 "nbformat_minor": 2
}
